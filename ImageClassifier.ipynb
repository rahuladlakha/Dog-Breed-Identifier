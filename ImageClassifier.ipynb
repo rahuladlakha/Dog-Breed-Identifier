{
  "cells": [
    {
      "cell_type": "code",
      "execution_count": null,
      "metadata": {
        "id": "48dbeccc"
      },
      "outputs": [],
      "source": [
        "import cv2\n",
        "import os\n",
        "import tensorflow as tf\n",
        "from tensorflow.keras import datasets, layers, models\n",
        "from tensorflow.keras.applications.inception_v3 import InceptionV3\n",
        "from tensorflow.keras.layers import GlobalAveragePooling2D, Dense, Flatten,Dropout\n",
        "import matplotlib.pyplot as plt\n",
        "import numpy as np\n",
        "from sklearn.model_selection import train_test_split\n",
        "from sklearn.metrics import classification_report, confusion_matrix\n",
        "import pickle"
      ],
      "id": "48dbeccc"
    },
    {
      "cell_type": "code",
      "execution_count": null,
      "metadata": {
        "colab": {
          "base_uri": "https://localhost:8080/",
          "height": 332
        },
        "id": "rwqN3AI92Ztg",
        "outputId": "02b03bcf-60fc-4175-910b-8288bbc24e7a"
      },
      "outputs": [
        {
          "output_type": "error",
          "ename": "KeyboardInterrupt",
          "evalue": "ignored",
          "traceback": [
            "\u001b[0;31m---------------------------------------------------------------------------\u001b[0m",
            "\u001b[0;31mKeyboardInterrupt\u001b[0m                         Traceback (most recent call last)",
            "\u001b[0;32m<ipython-input-3-d5df0069828e>\u001b[0m in \u001b[0;36m<cell line: 2>\u001b[0;34m()\u001b[0m\n\u001b[1;32m      1\u001b[0m \u001b[0;32mfrom\u001b[0m \u001b[0mgoogle\u001b[0m\u001b[0;34m.\u001b[0m\u001b[0mcolab\u001b[0m \u001b[0;32mimport\u001b[0m \u001b[0mdrive\u001b[0m\u001b[0;34m\u001b[0m\u001b[0;34m\u001b[0m\u001b[0m\n\u001b[0;32m----> 2\u001b[0;31m \u001b[0mdrive\u001b[0m\u001b[0;34m.\u001b[0m\u001b[0mmount\u001b[0m\u001b[0;34m(\u001b[0m\u001b[0;34m'/content/drive'\u001b[0m\u001b[0;34m)\u001b[0m\u001b[0;34m\u001b[0m\u001b[0;34m\u001b[0m\u001b[0m\n\u001b[0m",
            "\u001b[0;32m/usr/local/lib/python3.10/dist-packages/google/colab/drive.py\u001b[0m in \u001b[0;36mmount\u001b[0;34m(mountpoint, force_remount, timeout_ms, readonly)\u001b[0m\n\u001b[1;32m    101\u001b[0m \u001b[0;32mdef\u001b[0m \u001b[0mmount\u001b[0m\u001b[0;34m(\u001b[0m\u001b[0mmountpoint\u001b[0m\u001b[0;34m,\u001b[0m \u001b[0mforce_remount\u001b[0m\u001b[0;34m=\u001b[0m\u001b[0;32mFalse\u001b[0m\u001b[0;34m,\u001b[0m \u001b[0mtimeout_ms\u001b[0m\u001b[0;34m=\u001b[0m\u001b[0;36m120000\u001b[0m\u001b[0;34m,\u001b[0m \u001b[0mreadonly\u001b[0m\u001b[0;34m=\u001b[0m\u001b[0;32mFalse\u001b[0m\u001b[0;34m)\u001b[0m\u001b[0;34m:\u001b[0m\u001b[0;34m\u001b[0m\u001b[0;34m\u001b[0m\u001b[0m\n\u001b[1;32m    102\u001b[0m   \u001b[0;34m\"\"\"Mount your Google Drive at the specified mountpoint path.\"\"\"\u001b[0m\u001b[0;34m\u001b[0m\u001b[0;34m\u001b[0m\u001b[0m\n\u001b[0;32m--> 103\u001b[0;31m   return _mount(\n\u001b[0m\u001b[1;32m    104\u001b[0m       \u001b[0mmountpoint\u001b[0m\u001b[0;34m,\u001b[0m\u001b[0;34m\u001b[0m\u001b[0;34m\u001b[0m\u001b[0m\n\u001b[1;32m    105\u001b[0m       \u001b[0mforce_remount\u001b[0m\u001b[0;34m=\u001b[0m\u001b[0mforce_remount\u001b[0m\u001b[0;34m,\u001b[0m\u001b[0;34m\u001b[0m\u001b[0;34m\u001b[0m\u001b[0m\n",
            "\u001b[0;32m/usr/local/lib/python3.10/dist-packages/google/colab/drive.py\u001b[0m in \u001b[0;36m_mount\u001b[0;34m(mountpoint, force_remount, timeout_ms, ephemeral, readonly)\u001b[0m\n\u001b[1;32m    130\u001b[0m   )\n\u001b[1;32m    131\u001b[0m   \u001b[0;32mif\u001b[0m \u001b[0mephemeral\u001b[0m\u001b[0;34m:\u001b[0m\u001b[0;34m\u001b[0m\u001b[0;34m\u001b[0m\u001b[0m\n\u001b[0;32m--> 132\u001b[0;31m     _message.blocking_request(\n\u001b[0m\u001b[1;32m    133\u001b[0m         \u001b[0;34m'request_auth'\u001b[0m\u001b[0;34m,\u001b[0m \u001b[0mrequest\u001b[0m\u001b[0;34m=\u001b[0m\u001b[0;34m{\u001b[0m\u001b[0;34m'authType'\u001b[0m\u001b[0;34m:\u001b[0m \u001b[0;34m'dfs_ephemeral'\u001b[0m\u001b[0;34m}\u001b[0m\u001b[0;34m,\u001b[0m \u001b[0mtimeout_sec\u001b[0m\u001b[0;34m=\u001b[0m\u001b[0;32mNone\u001b[0m\u001b[0;34m\u001b[0m\u001b[0;34m\u001b[0m\u001b[0m\n\u001b[1;32m    134\u001b[0m     )\n",
            "\u001b[0;32m/usr/local/lib/python3.10/dist-packages/google/colab/_message.py\u001b[0m in \u001b[0;36mblocking_request\u001b[0;34m(request_type, request, timeout_sec, parent)\u001b[0m\n\u001b[1;32m    174\u001b[0m       \u001b[0mrequest_type\u001b[0m\u001b[0;34m,\u001b[0m \u001b[0mrequest\u001b[0m\u001b[0;34m,\u001b[0m \u001b[0mparent\u001b[0m\u001b[0;34m=\u001b[0m\u001b[0mparent\u001b[0m\u001b[0;34m,\u001b[0m \u001b[0mexpect_reply\u001b[0m\u001b[0;34m=\u001b[0m\u001b[0;32mTrue\u001b[0m\u001b[0;34m\u001b[0m\u001b[0;34m\u001b[0m\u001b[0m\n\u001b[1;32m    175\u001b[0m   )\n\u001b[0;32m--> 176\u001b[0;31m   \u001b[0;32mreturn\u001b[0m \u001b[0mread_reply_from_input\u001b[0m\u001b[0;34m(\u001b[0m\u001b[0mrequest_id\u001b[0m\u001b[0;34m,\u001b[0m \u001b[0mtimeout_sec\u001b[0m\u001b[0;34m)\u001b[0m\u001b[0;34m\u001b[0m\u001b[0;34m\u001b[0m\u001b[0m\n\u001b[0m",
            "\u001b[0;32m/usr/local/lib/python3.10/dist-packages/google/colab/_message.py\u001b[0m in \u001b[0;36mread_reply_from_input\u001b[0;34m(message_id, timeout_sec)\u001b[0m\n\u001b[1;32m     94\u001b[0m     \u001b[0mreply\u001b[0m \u001b[0;34m=\u001b[0m \u001b[0m_read_next_input_message\u001b[0m\u001b[0;34m(\u001b[0m\u001b[0;34m)\u001b[0m\u001b[0;34m\u001b[0m\u001b[0;34m\u001b[0m\u001b[0m\n\u001b[1;32m     95\u001b[0m     \u001b[0;32mif\u001b[0m \u001b[0mreply\u001b[0m \u001b[0;34m==\u001b[0m \u001b[0m_NOT_READY\u001b[0m \u001b[0;32mor\u001b[0m \u001b[0;32mnot\u001b[0m \u001b[0misinstance\u001b[0m\u001b[0;34m(\u001b[0m\u001b[0mreply\u001b[0m\u001b[0;34m,\u001b[0m \u001b[0mdict\u001b[0m\u001b[0;34m)\u001b[0m\u001b[0;34m:\u001b[0m\u001b[0;34m\u001b[0m\u001b[0;34m\u001b[0m\u001b[0m\n\u001b[0;32m---> 96\u001b[0;31m       \u001b[0mtime\u001b[0m\u001b[0;34m.\u001b[0m\u001b[0msleep\u001b[0m\u001b[0;34m(\u001b[0m\u001b[0;36m0.025\u001b[0m\u001b[0;34m)\u001b[0m\u001b[0;34m\u001b[0m\u001b[0;34m\u001b[0m\u001b[0m\n\u001b[0m\u001b[1;32m     97\u001b[0m       \u001b[0;32mcontinue\u001b[0m\u001b[0;34m\u001b[0m\u001b[0;34m\u001b[0m\u001b[0m\n\u001b[1;32m     98\u001b[0m     if (\n",
            "\u001b[0;31mKeyboardInterrupt\u001b[0m: "
          ]
        }
      ],
      "source": [
        "from google.colab import drive\n",
        "drive.mount('/content/drive')"
      ],
      "id": "rwqN3AI92Ztg"
    },
    {
      "cell_type": "code",
      "execution_count": null,
      "metadata": {
        "id": "_JrEaHL63NTZ"
      },
      "outputs": [],
      "source": [
        "!unzip \"/content/drive/MyDrive/Projects/DogBreedIdentifierRes/images.zip\" -d \"/content/images\""
      ],
      "id": "_JrEaHL63NTZ"
    },
    {
      "cell_type": "markdown",
      "metadata": {
        "id": "8d7874af"
      },
      "source": [
        "# Loading images from the dataset"
      ],
      "id": "8d7874af"
    },
    {
      "cell_type": "code",
      "execution_count": null,
      "metadata": {
        "id": "b1c972bf"
      },
      "outputs": [],
      "source": [
        "#Errors were coming before I added r before the directory path\n",
        "train_DIR = r\"/content/images/images/train\"\n",
        "test_DIR = r\"/content/images/images/test\"\n",
        "#classes = [ \"Airedale\", \"Australian Terrier\", \"Basenji\", \"Basset\", \"Beagle\", \"Bedlington Terrier\", \"Bernese Mountain Dog\", \"Black\", \"Blenheim Spaniel\", \"Bloodhound\", \"Border Collie\", \"Border Terrier\", \"Boston Bull\", \"Boxer\", \"Brabancon Griffon\", \"Briard\", \"Brittany Spaniel\", \"Bull Mastiff\", \"Cairn\", \"Cardigan\", \"Chesapeake Bay Retriever\", \"Chihuahua\", \"Chow\", \"Cocker Spaniel\", \"Collie\", \"Curly\", \"Dhole\", \"Dingo\", \"Doberman\", \"English Foxhound\", \"English Springer\", \"EntleBucher\", \"Eskimo Dog\", \"French Bulldog\", \"German Shepherd\", \"German Short\", \"Giant Schnauzer\", \"Golden Retriever\", \"Gordon Setter\", \"Great Pyrenees\", \"Groenendael\", \"Ibizan Hound\", \"Irish Water Spaniel\" ]\n",
        "#classes = [ \"Beagle\", \"Black\", \"Blenheim Spaniel\", \"Bloodhound\",  \"Boxer\", \"Brittany Spaniel\", \"Bull Mastiff\", \"Chesapeake Bay Retriever\", \"Chihuahua\", \"Dhole\", \"Dingo\", \"Doberman\", \"English Foxhound\", \"French Bulldog\", \"German Shepherd\", \"Golden Retriever\", \"Great Dane\", \"Italian Greyhound\",  \"Kelpie\", \"Kuvasz\", \"Labrador Retriever\", \"Miniature Poodle\", \"Norwich Terrier\", \"Papillon\", \"Pug\",  \"Rottweiler\",  \"Siberian Husky\", \"Standard Poodle\", \"Tibetan Terrier\", \"Toy Poodle\", \"Toy Terrier\", \"Yorkshire Terrier\"]\n",
        "#classes = [\"Affenpinscher\", \"Afghan Hound\", \"African Hunting Dog\", \"Airedale\", \"American Staffordshire Terrier\", \"Appenzeller\", \"Australian Terrier\", \"Basenji\", \"Basset\", \"Beagle\", \"Bedlington Terrier\", \"Bernese Mountain Dog\", \"Black\", \"Blenheim Spaniel\", \"Bloodhound\", \"Bluetick\", \"Border Collie\", \"Border Terrier\", \"Borzoi\", \"Boston Bull\", \"Bouvier Des Flandres\", \"Boxer\", \"Brabancon Griffon\", \"Briard\", \"Brittany Spaniel\", \"Bull Mastiff\", \"Cairn\", \"Cardigan\", \"Chesapeake Bay Retriever\", \"Chihuahua\", \"Chow\", \"Clumber\", \"Cocker Spaniel\", \"Collie\", \"Curly\", \"Dandie Dinmont\", \"Dhole\", \"Dingo\", \"Doberman\", \"English Foxhound\", \"English Setter\", \"English Springer\", \"EntleBucher\", \"Eskimo Dog\", \"Flat\", \"French Bulldog\", \"German Shepherd\", \"German Short\", \"Giant Schnauzer\", \"Golden Retriever\", \"Gordon Setter\", \"Great Dane\", \"Great Pyrenees\", \"Greater Swiss Mountain Dog\", \"Groenendael\", \"Ibizan Hound\", \"Irish Setter\", \"Irish Terrier\", \"Irish Water Spaniel\", \"Irish Wolfhound\", \"Italian Greyhound\", \"Japanese Spaniel\", \"Keeshond\", \"Kelpie\", \"Kerry Blue Terrier\", \"Komondor\", \"Kuvasz\", \"Labrador Retriever\", \"Lakeland Terrier\", \"Leonberg\", \"Lhasa\", \"Malamute\", \"Malinois\", \"Maltese Dog\", \"Mexican Hairless\", \"Miniature Pinscher\", \"Miniature Poodle\", \"Miniature Schnauzer\", \"Newfoundland\", \"Norfolk Terrier\", \"Norwegian Elkhound\", \"Norwich Terrier\", \"Old English Sheepdog\", \"Otterhound\", \"Papillon\", \"Pekinese\", \"Pembroke\", \"Pomeranian\", \"Pug\", \"Redbone\", \"Rhodesian Ridgeback\", \"Rottweiler\", \"Saint Bernard\", \"Saluki\", \"Samoyed\", \"Schipperke\", \"Scotch Terrier\", \"Scottish Deerhound\", \"Sealyham Terrier\", \"Shetland Sheepdog\", \"Shih\", \"Siberian Husky\", \"Silky Terrier\", \"Soft\", \"Staffordshire Bullterrier\", \"Standard Poodle\", \"Standard Schnauzer\", \"Sussex Spaniel\", \"Tibetan Mastiff\", \"Tibetan Terrier\", \"Toy Poodle\", \"Toy Terrier\", \"Vizsla\", \"Walker Hound\", \"Weimaraner\", \"Welsh Springer Spaniel\", \"West Highland White Terrier\", \"Whippet\", \"Wire\", \"Yorkshire Terrier\"]\n",
        "img_size = 256"
      ],
      "id": "b1c972bf"
    },
    {
      "cell_type": "markdown",
      "source": [
        "3 models were trained on different classes to account for 90 breeds of dogs as depicted below"
      ],
      "metadata": {
        "id": "IYURTVatsWwk"
      },
      "id": "IYURTVatsWwk"
    },
    {
      "cell_type": "code",
      "source": [
        "#classes = [  \"African Hunting Dog\", \"Airedale\", \"American Staffordshire Terrier\", \"Appenzeller\", \"Australian Terrier\", \"Basenji\", \"Beagle\", \"Bedlington Terrier\", \"Bernese Mountain Dog\", \"Black\", \"Blenheim Spaniel\", \"Bloodhound\", \"Border Collie\", \"Border Terrier\", \"Borzoi\", \"Boston Bull\", \"Boxer\", \"Brabancon Griffon\", \"Briard\", \"Brittany Spaniel\", \"Bull Mastiff\", \"Cardigan\", \"Chihuahua\", \"Chow\", \"Cocker Spaniel\",  \"Dandie Dinmont\", \"Dhole\", \"Dingo\", \"Doberman\", \"English Foxhound\"]"
      ],
      "metadata": {
        "id": "B3lhNP4iIuUD"
      },
      "id": "B3lhNP4iIuUD",
      "execution_count": null,
      "outputs": []
    },
    {
      "cell_type": "code",
      "source": [
        "#classes = [ \"EntleBucher\", \"Eskimo Dog\", \"Flat\", \"French Bulldog\", \"German Shepherd\", \"Giant Schnauzer\", \"Golden Retriever\", \"Great Dane\", \"Great Pyrenees\", \"Greater Swiss Mountain Dog\", \"Groenendael\", \"Ibizan Hound\", \"Irish Terrier\", \"Italian Greyhound\", \"Keeshond\", \"Kelpie\", \"Kerry Blue Terrier\", \"Komondor\", \"Kuvasz\", \"Labrador Retriever\", \"Lakeland Terrier\", \"Leonberg\", \"Malamute\", \"Malinois\", \"Maltese Dog\", \"Mexican Hairless\", \"Miniature Pinscher\", \"Miniature Poodle\", \"Miniature Schnauzer\", \"Norfolk Terrier\"]"
      ],
      "metadata": {
        "id": "CpQeMV3sLuCB"
      },
      "id": "CpQeMV3sLuCB",
      "execution_count": null,
      "outputs": []
    },
    {
      "cell_type": "code",
      "source": [
        "classes = [\"Norwegian Elkhound\", \"Norwich Terrier\", \"Old English Sheepdog\", \"Otterhound\", \"Papillon\", \"Pekinese\", \"Pembroke\", \"Pomeranian\", \"Pug\", \"Redbone\", \"Rhodesian Ridgeback\", \"Rottweiler\", \"Saint Bernard\", \"Saluki\", \"Samoyed\", \"Schipperke\", \"Scotch Terrier\", \"Scottish Deerhound\", \"Sealyham Terrier\", \"Shetland Sheepdog\", \"Siberian Husky\", \"Staffordshire Bullterrier\", \"Standard Poodle\", \"Standard Schnauzer\", \"Tibetan Mastiff\", \"Toy Poodle\", \"Vizsla\", \"Walker Hound\", \"West Highland White Terrier\", \"Yorkshire Terrier\"]"
      ],
      "metadata": {
        "id": "MVJC-ME7Sekr"
      },
      "id": "MVJC-ME7Sekr",
      "execution_count": null,
      "outputs": []
    },
    {
      "cell_type": "code",
      "execution_count": null,
      "metadata": {
        "colab": {
          "base_uri": "https://localhost:8080/"
        },
        "id": "01fbe768",
        "outputId": "e976ff0b-0989-4fc4-eb65-a31ba81c1dec"
      },
      "outputs": [
        {
          "output_type": "execute_result",
          "data": {
            "text/plain": [
              "30"
            ]
          },
          "metadata": {},
          "execution_count": 10
        }
      ],
      "source": [
        "len(classes)"
      ],
      "id": "01fbe768"
    },
    {
      "cell_type": "code",
      "execution_count": null,
      "metadata": {
        "id": "d94f17d4"
      },
      "outputs": [],
      "source": [
        "X_train = []\n",
        "y_train = []\n",
        "for cls in classes:\n",
        "    path = os.path.join(train_DIR,cls)\n",
        "    cls_num = classes.index(cls)\n",
        "    for img in os.listdir(path):\n",
        "        img_array = cv2.imread(os.path.join(path,img))\n",
        "        new_array = cv2.resize(img_array, (img_size, img_size))\n",
        "        X_train.append(new_array)\n",
        "        y_train.append(cls_num)"
      ],
      "id": "d94f17d4"
    },
    {
      "cell_type": "code",
      "execution_count": null,
      "metadata": {
        "id": "baa3f6ef"
      },
      "outputs": [],
      "source": [
        "X_test = []\n",
        "y_test = []\n",
        "for cls in classes:\n",
        "    path = os.path.join(test_DIR,cls)\n",
        "    cls_num = classes.index(cls)\n",
        "    for img in os.listdir(path):\n",
        "        img_array = cv2.imread(os.path.join(path,img))\n",
        "        new_array = cv2.resize(img_array, (img_size, img_size))\n",
        "        X_test.append(new_array)\n",
        "        y_test.append(cls_num)"
      ],
      "id": "baa3f6ef"
    },
    {
      "cell_type": "code",
      "execution_count": null,
      "metadata": {
        "colab": {
          "base_uri": "https://localhost:8080/"
        },
        "id": "92191236",
        "outputId": "e7e4be4e-c36a-4cc5-b7e3-e441b0b30aa0"
      },
      "outputs": [
        {
          "output_type": "stream",
          "name": "stdout",
          "text": [
            "750\n",
            "4463\n"
          ]
        }
      ],
      "source": [
        "print(len(X_test))\n",
        "print(len(X_train))"
      ],
      "id": "92191236"
    },
    {
      "cell_type": "code",
      "execution_count": null,
      "metadata": {
        "id": "9fb026ba"
      },
      "outputs": [],
      "source": [
        "#Function to plot images\n",
        "def plot_sample(X,y,index):\n",
        "\tplt.figure(figsize = (30,2)) #to determine the size of image to be shown\n",
        "\tplt.imshow(X[index])\n",
        "\tplt.xlabel(classes[y[index]])"
      ],
      "id": "9fb026ba"
    },
    {
      "cell_type": "code",
      "execution_count": null,
      "metadata": {
        "id": "60510e92"
      },
      "outputs": [],
      "source": [
        "#for i in range(0,(len(classes)-1)*25, 25):\n",
        "#  plot_sample(X_test, y_test, i)"
      ],
      "id": "60510e92"
    },
    {
      "cell_type": "code",
      "execution_count": null,
      "metadata": {
        "id": "f9ba6f6e"
      },
      "outputs": [],
      "source": [
        "#Converting the list into an np_array for further processing\n",
        "X_train = np.array(X_train).reshape(-1, img_size, img_size, 3)\n",
        "X_train = X_train.astype('short')\n",
        "y_train = np.array(y_train)\n",
        "y_train = y_train.astype('short')\n",
        "\n",
        "X_test = np.array(X_test).reshape(-1, img_size, img_size, 3)\n",
        "X_test = X_test.astype('short')\n",
        "y_test = np.array(y_test)\n",
        "y_test = y_test.astype('short')"
      ],
      "id": "f9ba6f6e"
    },
    {
      "cell_type": "code",
      "execution_count": null,
      "metadata": {
        "id": "2f39da03"
      },
      "outputs": [],
      "source": [
        "#Shuffle the arrays\n",
        "from sklearn.utils import shuffle\n",
        "X_train, y_train = shuffle(X_train, y_train)\n",
        "X_test, y_test = shuffle(X_test, y_test)"
      ],
      "id": "2f39da03"
    },
    {
      "cell_type": "code",
      "execution_count": null,
      "metadata": {
        "colab": {
          "base_uri": "https://localhost:8080/"
        },
        "id": "11bb3aaa",
        "outputId": "d1b7153c-768e-4588-81c6-ae8630afe1ad"
      },
      "outputs": [
        {
          "output_type": "execute_result",
          "data": {
            "text/plain": [
              "array([ 2,  4, 15,  0,  8, 16, 12, 25, 26,  2,  6, 10, 14, 16, 11,  2,  5,\n",
              "       22,  8, 17], dtype=int16)"
            ]
          },
          "metadata": {},
          "execution_count": 16
        }
      ],
      "source": [
        "y_train[:20]"
      ],
      "id": "11bb3aaa"
    },
    {
      "cell_type": "code",
      "execution_count": null,
      "metadata": {
        "colab": {
          "base_uri": "https://localhost:8080/"
        },
        "id": "9c8d23a9",
        "outputId": "b5540f08-1af6-4a0b-9e3e-cdc769433e35"
      },
      "outputs": [
        {
          "output_type": "execute_result",
          "data": {
            "text/plain": [
              "array([16, 22,  8, 14, 28, 15, 27, 29, 21, 22,  5, 18, 16, 21, 10, 26,  3,\n",
              "       19,  4, 15], dtype=int16)"
            ]
          },
          "metadata": {},
          "execution_count": 17
        }
      ],
      "source": [
        "y_test[:20]"
      ],
      "id": "9c8d23a9"
    },
    {
      "cell_type": "markdown",
      "metadata": {
        "id": "E5qBdLKB9vNl"
      },
      "source": [],
      "id": "E5qBdLKB9vNl"
    },
    {
      "cell_type": "code",
      "execution_count": null,
      "metadata": {
        "id": "1974bca3",
        "colab": {
          "base_uri": "https://localhost:8080/"
        },
        "outputId": "3a0ab4ad-6b9a-4b73-9971-9f7fc876bd9a"
      },
      "outputs": [
        {
          "output_type": "execute_result",
          "data": {
            "text/plain": [
              "array([[[0.5137255 , 0.52156866, 0.56078434],\n",
              "        [0.5294118 , 0.5372549 , 0.5764706 ],\n",
              "        [0.52156866, 0.5294118 , 0.5686275 ],\n",
              "        ...,\n",
              "        [0.73333335, 0.73333335, 0.75686276],\n",
              "        [0.7294118 , 0.7294118 , 0.75686276],\n",
              "        [0.7294118 , 0.7294118 , 0.7529412 ]],\n",
              "\n",
              "       [[0.5372549 , 0.54509807, 0.58431375],\n",
              "        [0.5372549 , 0.54509807, 0.58431375],\n",
              "        [0.5372549 , 0.54509807, 0.58431375],\n",
              "        ...,\n",
              "        [0.7254902 , 0.7254902 , 0.7529412 ],\n",
              "        [0.7254902 , 0.7254902 , 0.7490196 ],\n",
              "        [0.7254902 , 0.7254902 , 0.74509805]],\n",
              "\n",
              "       [[0.52156866, 0.5294118 , 0.5686275 ],\n",
              "        [0.5137255 , 0.52156866, 0.5568628 ],\n",
              "        [0.5294118 , 0.5372549 , 0.5764706 ],\n",
              "        ...,\n",
              "        [0.7176471 , 0.7176471 , 0.7411765 ],\n",
              "        [0.7137255 , 0.7137255 , 0.7372549 ],\n",
              "        [0.7137255 , 0.7137255 , 0.7372549 ]],\n",
              "\n",
              "       ...,\n",
              "\n",
              "       [[0.74509805, 0.7529412 , 0.75686276],\n",
              "        [0.7411765 , 0.7490196 , 0.7529412 ],\n",
              "        [0.73333335, 0.7411765 , 0.74509805],\n",
              "        ...,\n",
              "        [0.7411765 , 0.7490196 , 0.7529412 ],\n",
              "        [0.7411765 , 0.7490196 , 0.7529412 ],\n",
              "        [0.7372549 , 0.74509805, 0.7529412 ]],\n",
              "\n",
              "       [[0.7411765 , 0.7490196 , 0.7529412 ],\n",
              "        [0.7411765 , 0.7490196 , 0.7529412 ],\n",
              "        [0.74509805, 0.7529412 , 0.75686276],\n",
              "        ...,\n",
              "        [0.7137255 , 0.72156864, 0.7254902 ],\n",
              "        [0.72156864, 0.7294118 , 0.73333335],\n",
              "        [0.6862745 , 0.69411767, 0.69803923]],\n",
              "\n",
              "       [[0.7372549 , 0.74509805, 0.7490196 ],\n",
              "        [0.7411765 , 0.7490196 , 0.7529412 ],\n",
              "        [0.7411765 , 0.7490196 , 0.7529412 ],\n",
              "        ...,\n",
              "        [0.7137255 , 0.72156864, 0.7254902 ],\n",
              "        [0.7176471 , 0.7254902 , 0.7294118 ],\n",
              "        [0.6117647 , 0.61960787, 0.61960787]]], dtype=float32)"
            ]
          },
          "metadata": {},
          "execution_count": 18
        }
      ],
      "source": [
        "X_train = X_train.astype('float32')\n",
        "X_test = X_test.astype('float32')\n",
        "X_train /= 255\n",
        "X_test /= 255\n",
        "X_train[0]\n",
        "#Had tried adding a preprocessing layer in the Tensorflow model itself instead of here. But somehow, doing that affected accuracy negatively, hence had to keep it here"
      ],
      "id": "1974bca3"
    },
    {
      "cell_type": "code",
      "execution_count": null,
      "metadata": {
        "id": "1e68da53"
      },
      "outputs": [],
      "source": [],
      "id": "1e68da53"
    },
    {
      "cell_type": "markdown",
      "metadata": {
        "id": "9f9998c6"
      },
      "source": [
        "# Model creation and training"
      ],
      "id": "9f9998c6"
    },
    {
      "cell_type": "code",
      "execution_count": null,
      "metadata": {
        "id": "7a720c11"
      },
      "outputs": [],
      "source": [
        "#This model gave around 89.5% accuracy for 10 categories in just 3 epochs.. For entire dataset I might want to run it on 4 epochs\n",
        "#4th epoch gave accuracy 90.6% and might have overfitted model a little\n",
        "#for entire dataset use no more than 4 epochs... 4 is good for epoch count... 3 will give similar results just a little less in accuracy\n",
        "base_model = InceptionV3(weights='imagenet', include_top = False, input_shape = (img_size, img_size, 3))\n",
        "\n",
        "\n",
        "cnn = models.Sequential()\n",
        "#cnn.add(layers.Rescaling(1./255)),#Preprocessing layer for images... divide all input by 255\n",
        "#Do not use the above preprocessing layers it negatively impacted accuracy greatly... Not sure why\n",
        "cnn.add(base_model)\n",
        "cnn.add(GlobalAveragePooling2D())\n",
        "cnn.add(Dropout(0.3))\n",
        "cnn.add(Dense(512,activation = 'relu'))\n",
        "cnn.add(Dense(512,activation = 'relu'))\n",
        "cnn.add(Dense(len(classes),activation = 'softmax'))\n",
        "\n",
        "cnn.layers[0].trainable = False"
      ],
      "id": "7a720c11"
    },
    {
      "cell_type": "code",
      "execution_count": null,
      "metadata": {
        "id": "c7f29977"
      },
      "outputs": [],
      "source": [
        "cnn.compile(\n",
        "    optimizer = 'adam', #there are various optimizers - SGD, adam, enadam etc... Adam is popular and gives better accuracy\n",
        "    loss='sparse_categorical_crossentropy', #if you want your result to be a value, use spare_categorical\n",
        "    #categorical is used if want your output to be an array in which the index of class predicted has value 1 and all other indices of array 0\n",
        "    metrics=['accuracy']\n",
        ")"
      ],
      "id": "c7f29977"
    },
    {
      "cell_type": "code",
      "execution_count": null,
      "metadata": {
        "colab": {
          "base_uri": "https://localhost:8080/"
        },
        "id": "fcedd71a",
        "outputId": "01853c2e-4183-45c9-ce09-0fe26cfdcab5",
        "scrolled": true
      },
      "outputs": [
        {
          "output_type": "stream",
          "name": "stdout",
          "text": [
            "Epoch 1/7\n",
            "140/140 [==============================] - 28s 101ms/step - loss: 0.7460 - accuracy: 0.7943\n",
            "Epoch 2/7\n",
            "140/140 [==============================] - 13s 91ms/step - loss: 0.3433 - accuracy: 0.8924\n",
            "Epoch 3/7\n",
            "140/140 [==============================] - 13s 92ms/step - loss: 0.2835 - accuracy: 0.9102\n",
            "Epoch 4/7\n",
            "140/140 [==============================] - 13s 93ms/step - loss: 0.2235 - accuracy: 0.9274\n",
            "Epoch 5/7\n",
            "140/140 [==============================] - 13s 95ms/step - loss: 0.1955 - accuracy: 0.9341\n",
            "Epoch 6/7\n",
            "140/140 [==============================] - 13s 96ms/step - loss: 0.1431 - accuracy: 0.9536\n",
            "Epoch 7/7\n",
            "140/140 [==============================] - 13s 96ms/step - loss: 0.1468 - accuracy: 0.9514\n"
          ]
        },
        {
          "output_type": "execute_result",
          "data": {
            "text/plain": [
              "<keras.callbacks.History at 0x7fa50153f340>"
            ]
          },
          "metadata": {},
          "execution_count": 22
        }
      ],
      "source": [
        "cnn.fit(X_train, y_train, epochs=7) #epoch is number of iterations the model is trained on using the training data.. ie number of passes of input upon algorithm\n",
        "#NOTE - Before reshaping the y_train (reducing it to 1D), the accuracy was very low (reached 0.01 in 10 epochs)\n",
        "#Always ensure that output is in 1D else accuracy will be greatly impacted."
      ],
      "id": "fcedd71a"
    },
    {
      "cell_type": "markdown",
      "metadata": {
        "id": "25496062"
      },
      "source": [
        "# Evaluation"
      ],
      "id": "25496062"
    },
    {
      "cell_type": "code",
      "execution_count": null,
      "metadata": {
        "colab": {
          "base_uri": "https://localhost:8080/"
        },
        "id": "e2ee4f76",
        "outputId": "2350b861-b661-40e9-e343-fc3a40c2dca1"
      },
      "outputs": [
        {
          "output_type": "stream",
          "name": "stdout",
          "text": [
            "24/24 [==============================] - 5s 160ms/step - loss: 0.5482 - accuracy: 0.8707\n"
          ]
        },
        {
          "output_type": "execute_result",
          "data": {
            "text/plain": [
              "[0.5481805801391602, 0.8706666827201843]"
            ]
          },
          "metadata": {},
          "execution_count": 23
        }
      ],
      "source": [
        "cnn.evaluate(X_test,y_test)"
      ],
      "id": "e2ee4f76"
    },
    {
      "cell_type": "code",
      "execution_count": null,
      "metadata": {
        "id": "7167bf24"
      },
      "outputs": [],
      "source": [
        "plot_sample(X_test, y_test,3)"
      ],
      "id": "7167bf24"
    },
    {
      "cell_type": "code",
      "execution_count": null,
      "metadata": {
        "id": "3c981078"
      },
      "outputs": [],
      "source": [
        "y_pred = cnn.predict(X_test)\n",
        "y_pred[:5] #The predicted class is the class with the maximum value (we have one value for each of 10 categories in predicted array)"
      ],
      "id": "3c981078"
    },
    {
      "cell_type": "code",
      "execution_count": null,
      "metadata": {
        "id": "a70a3214"
      },
      "outputs": [],
      "source": [
        "#the argmax fun return index of max element\n",
        "pred_classes = [np.argmax(element) for element in y_pred]\n",
        "pred_classes[:20]"
      ],
      "id": "a70a3214"
    },
    {
      "cell_type": "code",
      "execution_count": null,
      "metadata": {
        "id": "9dce9417"
      },
      "outputs": [],
      "source": [
        "y_test[:20]"
      ],
      "id": "9dce9417"
    },
    {
      "cell_type": "code",
      "execution_count": null,
      "metadata": {
        "id": "f997f568"
      },
      "outputs": [],
      "source": [
        "print('Classification report : \\n' + classification_report(y_test, pred_classes))"
      ],
      "id": "f997f568"
    },
    {
      "cell_type": "code",
      "execution_count": null,
      "metadata": {
        "colab": {
          "base_uri": "https://localhost:8080/",
          "height": 204
        },
        "id": "4f105f69",
        "outputId": "f54e4ba1-2a44-415c-a213-127754a4892c",
        "scrolled": true
      },
      "outputs": [
        {
          "output_type": "error",
          "ename": "NameError",
          "evalue": "ignored",
          "traceback": [
            "\u001b[0;31m---------------------------------------------------------------------------\u001b[0m",
            "\u001b[0;31mNameError\u001b[0m                                 Traceback (most recent call last)",
            "\u001b[0;32m<ipython-input-19-2f32137f0289>\u001b[0m in \u001b[0;36m<cell line: 1>\u001b[0;34m()\u001b[0m\n\u001b[0;32m----> 1\u001b[0;31m \u001b[0mm\u001b[0m \u001b[0;34m=\u001b[0m \u001b[0mconfusion_matrix\u001b[0m\u001b[0;34m(\u001b[0m\u001b[0my_test\u001b[0m\u001b[0;34m,\u001b[0m \u001b[0mpred_classes\u001b[0m\u001b[0;34m)\u001b[0m\u001b[0;34m\u001b[0m\u001b[0;34m\u001b[0m\u001b[0m\n\u001b[0m\u001b[1;32m      2\u001b[0m \u001b[0;32mfor\u001b[0m \u001b[0mi\u001b[0m \u001b[0;32min\u001b[0m \u001b[0mrange\u001b[0m\u001b[0;34m(\u001b[0m\u001b[0;36m0\u001b[0m\u001b[0;34m,\u001b[0m\u001b[0;34m(\u001b[0m\u001b[0mlen\u001b[0m\u001b[0;34m(\u001b[0m\u001b[0mclasses\u001b[0m\u001b[0;34m)\u001b[0m\u001b[0;34m)\u001b[0m\u001b[0;34m)\u001b[0m\u001b[0;34m:\u001b[0m\u001b[0;34m\u001b[0m\u001b[0;34m\u001b[0m\u001b[0m\n\u001b[1;32m      3\u001b[0m   \u001b[0mprint\u001b[0m\u001b[0;34m(\u001b[0m\u001b[0mstr\u001b[0m\u001b[0;34m(\u001b[0m\u001b[0mi\u001b[0m\u001b[0;34m)\u001b[0m \u001b[0;34m+\u001b[0m \u001b[0;34m\" \"\u001b[0m \u001b[0;34m+\u001b[0m \u001b[0mstr\u001b[0m\u001b[0;34m(\u001b[0m\u001b[0mm\u001b[0m\u001b[0;34m[\u001b[0m\u001b[0mi\u001b[0m\u001b[0;34m]\u001b[0m\u001b[0;34m[\u001b[0m\u001b[0mi\u001b[0m\u001b[0;34m]\u001b[0m\u001b[0;34m)\u001b[0m\u001b[0;34m)\u001b[0m\u001b[0;34m\u001b[0m\u001b[0;34m\u001b[0m\u001b[0m\n",
            "\u001b[0;31mNameError\u001b[0m: name 'pred_classes' is not defined"
          ]
        }
      ],
      "source": [
        "m = confusion_matrix(y_test, pred_classes)\n",
        "for i in range(0,(len(classes))):\n",
        "  print(str(i) + \" \" + str(m[i][i]))"
      ],
      "id": "4f105f69"
    },
    {
      "cell_type": "markdown",
      "metadata": {
        "id": "5ab3cf64"
      },
      "source": [
        "# Pickle the model"
      ],
      "id": "5ab3cf64"
    },
    {
      "cell_type": "code",
      "execution_count": null,
      "metadata": {
        "id": "00a72f4b"
      },
      "outputs": [],
      "source": [
        "pickle.dump(cnn, open(\"/content/drive/MyDrive/Projects/DogBreedIdentifierRes/img_clf(acc=87,cls=30(of last 40),imgsize=256).pkl\", \"wb\"))"
      ],
      "id": "00a72f4b"
    },
    {
      "cell_type": "code",
      "execution_count": null,
      "metadata": {
        "id": "f2a86a16"
      },
      "outputs": [],
      "source": [
        "#cnn = pickle.load(open(\"/content/drive/MyDrive/Projects/DogBreedIdentifierRes/img_clf(acc=82,classes=32,imgsize=256).pkl\", \"rb\"))"
      ],
      "id": "f2a86a16"
    },
    {
      "cell_type": "markdown",
      "metadata": {
        "id": "ekeC7s4phD8i"
      },
      "source": [
        "# Convert into Tensorflow lite model for using in edge devices ( android app here )"
      ],
      "id": "ekeC7s4phD8i"
    },
    {
      "cell_type": "code",
      "execution_count": null,
      "metadata": {
        "colab": {
          "base_uri": "https://localhost:8080/"
        },
        "id": "S_f61wErgEiv",
        "outputId": "34e889cb-de7b-4ab7-bdfc-f0485e2657f3"
      },
      "outputs": [
        {
          "output_type": "stream",
          "name": "stderr",
          "text": [
            "WARNING:absl:Found untraced functions such as _jit_compiled_convolution_op, _jit_compiled_convolution_op, _jit_compiled_convolution_op, _jit_compiled_convolution_op, _jit_compiled_convolution_op while saving (showing 5 of 94). These functions will not be directly callable after loading.\n"
          ]
        }
      ],
      "source": [
        "converter = tf.lite.TFLiteConverter.from_keras_model(cnn)\n",
        "tflite_model = converter.convert()\n",
        "\n",
        "with open(\"/content/drive/MyDrive/Projects/DogBreedIdentifierRes/img_clf(acc=87,cls=30(of last 40)).tflite\", \"wb\") as f:\n",
        "  f.write(tflite_model)"
      ],
      "id": "S_f61wErgEiv"
    },
    {
      "cell_type": "code",
      "execution_count": null,
      "metadata": {
        "id": "iHrszanylmlb"
      },
      "outputs": [],
      "source": [],
      "id": "iHrszanylmlb"
    }
  ],
  "metadata": {
    "accelerator": "GPU",
    "colab": {
      "provenance": []
    },
    "kernelspec": {
      "display_name": "Python 3",
      "name": "python3"
    },
    "language_info": {
      "codemirror_mode": {
        "name": "ipython",
        "version": 3
      },
      "file_extension": ".py",
      "mimetype": "text/x-python",
      "name": "python",
      "nbconvert_exporter": "python",
      "pygments_lexer": "ipython3",
      "version": "3.11.2"
    }
  },
  "nbformat": 4,
  "nbformat_minor": 5
}